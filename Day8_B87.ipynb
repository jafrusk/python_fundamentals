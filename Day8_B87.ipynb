{
 "cells": [
  {
   "cell_type": "code",
   "execution_count": null,
   "id": "27b600ba-695f-4ffd-9dcf-6337d81a6501",
   "metadata": {},
   "outputs": [],
   "source": [
    "#continuation with list data type:\n",
    "Introduction to looping statments:\n",
    "understanding the concept of for loop:"
   ]
  },
  {
   "cell_type": "code",
   "execution_count": 1,
   "id": "e0137dfb-d5eb-4042-a879-1fb4461aba14",
   "metadata": {},
   "outputs": [
    {
     "name": "stdout",
     "output_type": "stream",
     "text": [
      "['naveen', 'amer', 'uday', 'sameer', 'anusha', 'bushra']\n"
     ]
    }
   ],
   "source": [
    "students = ['naveen','amer','uday','sameer','anusha','bushra']\n",
    "print(students)"
   ]
  },
  {
   "cell_type": "code",
   "execution_count": 2,
   "id": "10095e07-5482-4db4-87d3-b9c53ad31941",
   "metadata": {},
   "outputs": [
    {
     "name": "stdout",
     "output_type": "stream",
     "text": [
      "Keep up the good work, Naveen\n"
     ]
    }
   ],
   "source": [
    "# req : to appreciate the list of students mentioned above.\n",
    "print(f\"Keep up the good work, {students[0].title()}\")"
   ]
  },
  {
   "cell_type": "code",
   "execution_count": 3,
   "id": "d28725f7-227d-45cc-9fa5-3fae729b1eb4",
   "metadata": {},
   "outputs": [
    {
     "name": "stdout",
     "output_type": "stream",
     "text": [
      "Keep up the good work, Amer\n"
     ]
    }
   ],
   "source": [
    "# req : amer...\n",
    "print(f\"Keep up the good work, {students[1].title()}\")"
   ]
  },
  {
   "cell_type": "code",
   "execution_count": 4,
   "id": "728a7051-f1c3-40e5-83b7-a33a1d797fec",
   "metadata": {},
   "outputs": [],
   "source": [
    "# general syntax of for loop:"
   ]
  },
  {
   "cell_type": "code",
   "execution_count": null,
   "id": "f470a37a-5406-43d5-8bf5-fd872f631df3",
   "metadata": {},
   "outputs": [],
   "source": [
    "for tempvar in mainvar: #indentation \n",
    "    print(tempvar)"
   ]
  },
  {
   "cell_type": "code",
   "execution_count": 5,
   "id": "1891de6e-1796-4a8d-91d9-b6d34e8455c3",
   "metadata": {},
   "outputs": [
    {
     "name": "stdout",
     "output_type": "stream",
     "text": [
      "Keep up the good work, Naveen\n",
      "Keep up the good work, Amer\n",
      "Keep up the good work, Uday\n",
      "Keep up the good work, Sameer\n",
      "Keep up the good work, Anusha\n",
      "Keep up the good work, Bushra\n"
     ]
    }
   ],
   "source": [
    "for x in students:\n",
    "    print(f\"Keep up the good work, {x.title()}\")"
   ]
  },
  {
   "cell_type": "code",
   "execution_count": 6,
   "id": "6e95c7fb-0778-426e-8760-34468b89c36b",
   "metadata": {},
   "outputs": [
    {
     "name": "stdout",
     "output_type": "stream",
     "text": [
      "naveen\n",
      "amer\n",
      "uday\n",
      "sameer\n",
      "anusha\n",
      "bushra\n"
     ]
    }
   ],
   "source": [
    "for y in students:\n",
    "    print(y)"
   ]
  },
  {
   "cell_type": "code",
   "execution_count": 7,
   "id": "d0cb5ea3-1e50-44d8-9f0c-40b0566c76ba",
   "metadata": {},
   "outputs": [
    {
     "name": "stdout",
     "output_type": "stream",
     "text": [
      "Keep up the good work, Naveen\n",
      "do submit your work for today without fail, Naveen\n",
      "\n",
      "Keep up the good work, Amer\n",
      "do submit your work for today without fail, Amer\n",
      "\n",
      "Keep up the good work, Uday\n",
      "do submit your work for today without fail, Uday\n",
      "\n",
      "Keep up the good work, Sameer\n",
      "do submit your work for today without fail, Sameer\n",
      "\n",
      "Keep up the good work, Anusha\n",
      "do submit your work for today without fail, Anusha\n",
      "\n",
      "Keep up the good work, Bushra\n",
      "do submit your work for today without fail, Bushra\n",
      "\n"
     ]
    }
   ],
   "source": [
    "for x in students:\n",
    "    print(f\"Keep up the good work, {x.title()}\")\n",
    "    print(f\"do submit your work for today without fail, {x.title()}\\n\")"
   ]
  },
  {
   "cell_type": "code",
   "execution_count": null,
   "id": "ef5fbb5d-ff47-4bab-b9d3-418da9860a01",
   "metadata": {},
   "outputs": [],
   "source": [
    "for x in students:\n",
    "    print(f\"Keep up the good work, {x.title()}\")\n",
    "    print(f\"do submit your work for today without fail, {x.title()}\\n\")\n",
    "print(\"Thank you all for joining in the session\") # it is executed only time ---> writing out of loop   \n",
    "    "
   ]
  }
 ],
 "metadata": {
  "kernelspec": {
   "display_name": "Python 3 (ipykernel)",
   "language": "python",
   "name": "python3"
  },
  "language_info": {
   "codemirror_mode": {
    "name": "ipython",
    "version": 3
   },
   "file_extension": ".py",
   "mimetype": "text/x-python",
   "name": "python",
   "nbconvert_exporter": "python",
   "pygments_lexer": "ipython3",
   "version": "3.12.4"
  }
 },
 "nbformat": 4,
 "nbformat_minor": 5
}
