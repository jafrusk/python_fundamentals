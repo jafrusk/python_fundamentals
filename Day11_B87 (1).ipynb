{
 "cells": [
  {
   "cell_type": "code",
   "execution_count": 1,
   "id": "64e9eb8b-5469-4128-8bf8-a16ec5d6954e",
   "metadata": {},
   "outputs": [
    {
     "name": "stdout",
     "output_type": "stream",
     "text": [
      "(100, 150)\n"
     ]
    }
   ],
   "source": [
    "dimensions = (100, 150)\n",
    "print(dimensions)"
   ]
  },
  {
   "cell_type": "code",
   "execution_count": 2,
   "id": "614a4528-dbea-4492-87fe-c68becf0dda0",
   "metadata": {},
   "outputs": [
    {
     "data": {
      "text/plain": [
       "tuple"
      ]
     },
     "execution_count": 2,
     "metadata": {},
     "output_type": "execute_result"
    }
   ],
   "source": [
    "type(dimensions)"
   ]
  },
  {
   "cell_type": "code",
   "execution_count": 3,
   "id": "c62e8f3b-1459-4cea-87ea-482aebdbb2b5",
   "metadata": {},
   "outputs": [
    {
     "ename": "TypeError",
     "evalue": "'tuple' object does not support item assignment",
     "output_type": "error",
     "traceback": [
      "\u001b[1;31m---------------------------------------------------------------------------\u001b[0m",
      "\u001b[1;31mTypeError\u001b[0m                                 Traceback (most recent call last)",
      "Cell \u001b[1;32mIn[3], line 2\u001b[0m\n\u001b[0;32m      1\u001b[0m \u001b[38;5;66;03m# I want to change 100 to 200\u001b[39;00m\n\u001b[1;32m----> 2\u001b[0m dimensions[\u001b[38;5;241m0\u001b[39m] \u001b[38;5;241m=\u001b[39m \u001b[38;5;241m200\u001b[39m\n",
      "\u001b[1;31mTypeError\u001b[0m: 'tuple' object does not support item assignment"
     ]
    }
   ],
   "source": [
    "# I want to change 100 to 200\n",
    "dimensions[0] = 200\n"
   ]
  },
  {
   "cell_type": "code",
   "execution_count": 4,
   "id": "bfa94b5a-47fb-4eeb-9982-9dd47d855c56",
   "metadata": {},
   "outputs": [
    {
     "name": "stdout",
     "output_type": "stream",
     "text": [
      "('naveen', 'vaideki', 'parveen', 'sushma')\n"
     ]
    }
   ],
   "source": [
    "students = ('naveen','vaideki','parveen','sushma')\n",
    "print(students)"
   ]
  },
  {
   "cell_type": "code",
   "execution_count": 5,
   "id": "7bdd41e9-16fc-4ab5-bf64-5f4c87b5835c",
   "metadata": {},
   "outputs": [
    {
     "name": "stdout",
     "output_type": "stream",
     "text": [
      "naveen\n",
      "vaideki\n",
      "parveen\n",
      "sushma\n"
     ]
    }
   ],
   "source": [
    "for x in students:\n",
    "    print(x)"
   ]
  },
  {
   "cell_type": "code",
   "execution_count": 6,
   "id": "d34e2ca1-1208-4669-a463-f2603720a436",
   "metadata": {},
   "outputs": [],
   "source": [
    "# req : iwant to create a alien game\n",
    "alien = {'color':'green', 'points':10}"
   ]
  },
  {
   "cell_type": "code",
   "execution_count": 7,
   "id": "5d2f8c96-addb-478e-a6f2-6e3fd75f398c",
   "metadata": {},
   "outputs": [
    {
     "name": "stdout",
     "output_type": "stream",
     "text": [
      "{'color': 'green', 'points': 10}\n"
     ]
    }
   ],
   "source": [
    "print(alien)"
   ]
  },
  {
   "cell_type": "code",
   "execution_count": 8,
   "id": "e1a79d8a-1ac0-459a-b4ed-1c5794412e69",
   "metadata": {},
   "outputs": [],
   "source": [
    "# req : how to add new key value pairs to the dictionary\n",
    "# start_position : level 0"
   ]
  },
  {
   "cell_type": "code",
   "execution_count": 9,
   "id": "f914ec9b-cccc-46c4-89bc-01f71cecf9b9",
   "metadata": {},
   "outputs": [
    {
     "name": "stdout",
     "output_type": "stream",
     "text": [
      "{'color': 'green', 'points': 10, 'start position': 'level0'}\n"
     ]
    }
   ],
   "source": [
    "alien['start position'] = 'level0'\n",
    "print(alien)"
   ]
  },
  {
   "cell_type": "code",
   "execution_count": 14,
   "id": "dfe7eedc-ebf6-43ef-91f9-cceb02b65a77",
   "metadata": {},
   "outputs": [],
   "source": [
    "\n",
    "#note : Keys will be acting as a index point in the dictionary"
   ]
  },
  {
   "cell_type": "code",
   "execution_count": 11,
   "id": "2a21c512-5c43-40ae-95a0-9b40fb674170",
   "metadata": {},
   "outputs": [
    {
     "data": {
      "text/plain": [
       "10"
      ]
     },
     "execution_count": 11,
     "metadata": {},
     "output_type": "execute_result"
    }
   ],
   "source": [
    "# req : how to access the values from the dictionary\n",
    "alien['points']"
   ]
  },
  {
   "cell_type": "code",
   "execution_count": 13,
   "id": "3bd12f8a-43b7-445b-94c4-9ebafeed06b0",
   "metadata": {},
   "outputs": [],
   "source": [
    "alien['current_position'] = \"level - 1\""
   ]
  },
  {
   "cell_type": "raw",
   "id": "927c39cc-6ffa-42b4-aa75-b07a604c6096",
   "metadata": {},
   "source": [
    "print(alien)"
   ]
  },
  {
   "cell_type": "code",
   "execution_count": 15,
   "id": "afada94d-5b08-4c82-b93c-9d0534474eaf",
   "metadata": {},
   "outputs": [
    {
     "name": "stdout",
     "output_type": "stream",
     "text": [
      "{'color': 'green', 'points': 10, 'start position': 'level0', 'current_position': 'level - 1'}\n"
     ]
    }
   ],
   "source": [
    "print(alien)"
   ]
  },
  {
   "cell_type": "code",
   "execution_count": 18,
   "id": "46c24342-f926-4304-b37a-3bf204d611b4",
   "metadata": {},
   "outputs": [
    {
     "ename": "KeyError",
     "evalue": "'green'",
     "output_type": "error",
     "traceback": [
      "\u001b[1;31m---------------------------------------------------------------------------\u001b[0m",
      "\u001b[1;31mKeyError\u001b[0m                                  Traceback (most recent call last)",
      "Cell \u001b[1;32mIn[18], line 2\u001b[0m\n\u001b[0;32m      1\u001b[0m \u001b[38;5;66;03m# Note : give the key and get the value\u001b[39;00m\n\u001b[1;32m----> 2\u001b[0m alien[\u001b[38;5;124m'\u001b[39m\u001b[38;5;124mgreen\u001b[39m\u001b[38;5;124m'\u001b[39m]\n",
      "\u001b[1;31mKeyError\u001b[0m: 'green'"
     ]
    }
   ],
   "source": [
    "# Note : give the key and get the value\n",
    "alien['green']"
   ]
  },
  {
   "cell_type": "code",
   "execution_count": 19,
   "id": "f247d688-c2cb-428c-a005-cc01b2bda3dd",
   "metadata": {},
   "outputs": [],
   "source": [
    "# Implimentation of for loops on the dictionary :\n",
    "# General Syntax :"
   ]
  },
  {
   "cell_type": "code",
   "execution_count": 20,
   "id": "21524aa8-552c-4fbd-9622-f783d03903e2",
   "metadata": {},
   "outputs": [
    {
     "ename": "NameError",
     "evalue": "name 'mainvar' is not defined",
     "output_type": "error",
     "traceback": [
      "\u001b[1;31m---------------------------------------------------------------------------\u001b[0m",
      "\u001b[1;31mNameError\u001b[0m                                 Traceback (most recent call last)",
      "Cell \u001b[1;32mIn[20], line 1\u001b[0m\n\u001b[1;32m----> 1\u001b[0m \u001b[38;5;28;01mfor\u001b[39;00m tempvar1, tempvar2 \u001b[38;5;129;01min\u001b[39;00m mainvar\u001b[38;5;241m.\u001b[39mitems():\n\u001b[0;32m      2\u001b[0m     \u001b[38;5;28mprint\u001b[39m(tempvar1)\n\u001b[0;32m      3\u001b[0m     \u001b[38;5;28mprint\u001b[39m(tempvar2)\n",
      "\u001b[1;31mNameError\u001b[0m: name 'mainvar' is not defined"
     ]
    }
   ],
   "source": [
    "for tempvar1, tempvar2 in mainvar.items():\n",
    "    print(tempvar1)\n",
    "    print(tempvar2)"
   ]
  },
  {
   "cell_type": "code",
   "execution_count": 21,
   "id": "2e1fab14-43f3-4e66-851a-7e886c126f16",
   "metadata": {},
   "outputs": [
    {
     "name": "stdout",
     "output_type": "stream",
     "text": [
      "{'color': 'green', 'points': 10, 'start position': 'level0', 'current_position': 'level - 1'}\n"
     ]
    }
   ],
   "source": [
    "print(alien)"
   ]
  },
  {
   "cell_type": "code",
   "execution_count": null,
   "id": "a1ae8cde-a468-4274-bf5d-ed00f1461036",
   "metadata": {},
   "outputs": [],
   "source": [
    "for k,v in alien.items"
   ]
  }
 ],
 "metadata": {
  "kernelspec": {
   "display_name": "Python 3 (ipykernel)",
   "language": "python",
   "name": "python3"
  },
  "language_info": {
   "codemirror_mode": {
    "name": "ipython",
    "version": 3
   },
   "file_extension": ".py",
   "mimetype": "text/x-python",
   "name": "python",
   "nbconvert_exporter": "python",
   "pygments_lexer": "ipython3",
   "version": "3.12.4"
  }
 },
 "nbformat": 4,
 "nbformat_minor": 5
}
