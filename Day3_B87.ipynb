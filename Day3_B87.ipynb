{
 "cells": [
  {
   "cell_type": "code",
   "execution_count": 3,
   "id": "63c85010-9bd0-40f0-9eac-c39ee865beb6",
   "metadata": {},
   "outputs": [
    {
     "name": "stdout",
     "output_type": "stream",
     "text": [
      "shaik jafru\n"
     ]
    }
   ],
   "source": [
    "firstname = 'shaik'\n",
    "lastname = ' jafru'\n",
    "fullname = f\"{firstname}{lastname}\"\n",
    "print(fullname)"
   ]
  },
  {
   "cell_type": "code",
   "execution_count": 4,
   "id": "e2fbe95e-93ad-43d7-8d8e-8b2f3e50b3d8",
   "metadata": {},
   "outputs": [
    {
     "name": "stdout",
     "output_type": "stream",
     "text": [
      "Shaik Jafru\n"
     ]
    }
   ],
   "source": [
    "print(fullname.title())"
   ]
  },
  {
   "cell_type": "code",
   "execution_count": 6,
   "id": "ef58c48b-bc6e-4d08-86bb-2ed065e44720",
   "metadata": {},
   "outputs": [
    {
     "name": "stdout",
     "output_type": "stream",
     "text": [
      " shaik working good shaik jafru\n"
     ]
    }
   ],
   "source": [
    "message =f\" shaik working good {fullname}\"\n",
    "print(message)"
   ]
  },
  {
   "cell_type": "code",
   "execution_count": 9,
   "id": "c162c812-c01c-451a-941c-332420cf0603",
   "metadata": {},
   "outputs": [
    {
     "name": "stdout",
     "output_type": "stream",
     "text": [
      "favourite_programme_language:pythonjavac++ruby\n"
     ]
    }
   ],
   "source": [
    "print(\"favourite_programme_language:pythonjavac++ruby\")"
   ]
  },
  {
   "cell_type": "code",
   "execution_count": 10,
   "id": "0cc30799-ed9a-4e35-a5e2-5d9d3e873c83",
   "metadata": {},
   "outputs": [
    {
     "name": "stdout",
     "output_type": "stream",
     "text": [
      "favourite_programme_language:\n",
      "\tpython\n",
      "\tjava\n",
      "\tc++\n",
      "\truby\n"
     ]
    }
   ],
   "source": [
    "print(\"favourite_programme_language:\\n\\tpython\\n\\tjava\\n\\tc++\\n\\truby\") #\\n -> new line and  \\t -> tab delimeter"
   ]
  },
  {
   "cell_type": "code",
   "execution_count": 11,
   "id": "d4ed0666-edf3-4d82-baaa-17a1af83fc00",
   "metadata": {},
   "outputs": [
    {
     "name": "stdout",
     "output_type": "stream",
     "text": [
      "python\n"
     ]
    }
   ],
   "source": [
    "name = 'python'\n",
    "print(name)"
   ]
  },
  {
   "cell_type": "code",
   "execution_count": 12,
   "id": "d6b81d50-e65d-4d4b-8084-ec6757741d69",
   "metadata": {},
   "outputs": [
    {
     "name": "stdout",
     "output_type": "stream",
     "text": [
      "  python\n"
     ]
    }
   ],
   "source": [
    "name2 = \"  python\"\n",
    "print(name2)"
   ]
  },
  {
   "cell_type": "code",
   "execution_count": 13,
   "id": "52057619-721b-4a98-b36a-716817adca39",
   "metadata": {},
   "outputs": [
    {
     "name": "stdout",
     "output_type": "stream",
     "text": [
      "python \n"
     ]
    }
   ],
   "source": [
    "name3 = 'python '\n",
    "print(name3)"
   ]
  },
  {
   "cell_type": "code",
   "execution_count": 14,
   "id": "b4684869-4c1c-4b6b-a58f-b83d4da6c9ba",
   "metadata": {},
   "outputs": [],
   "source": [
    "#Using strip method"
   ]
  },
  {
   "cell_type": "code",
   "execution_count": 15,
   "id": "fbb659d8-4884-4ba4-93c9-4ec464491239",
   "metadata": {},
   "outputs": [
    {
     "data": {
      "text/plain": [
       "'python'"
      ]
     },
     "execution_count": 15,
     "metadata": {},
     "output_type": "execute_result"
    }
   ],
   "source": [
    "name2.strip()"
   ]
  },
  {
   "cell_type": "code",
   "execution_count": 16,
   "id": "9cae5746-3b14-4f2d-8223-59a576271580",
   "metadata": {},
   "outputs": [
    {
     "data": {
      "text/plain": [
       "'python'"
      ]
     },
     "execution_count": 16,
     "metadata": {},
     "output_type": "execute_result"
    }
   ],
   "source": [
    "name3.strip()"
   ]
  },
  {
   "cell_type": "code",
   "execution_count": null,
   "id": "b74aea6b-9708-4e28-afa3-b1567ea857a9",
   "metadata": {},
   "outputs": [],
   "source": []
  }
 ],
 "metadata": {
  "kernelspec": {
   "display_name": "Python 3 (ipykernel)",
   "language": "python",
   "name": "python3"
  },
  "language_info": {
   "codemirror_mode": {
    "name": "ipython",
    "version": 3
   },
   "file_extension": ".py",
   "mimetype": "text/x-python",
   "name": "python",
   "nbconvert_exporter": "python",
   "pygments_lexer": "ipython3",
   "version": "3.12.4"
  }
 },
 "nbformat": 4,
 "nbformat_minor": 5
}
