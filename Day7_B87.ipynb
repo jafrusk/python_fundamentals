{
 "cells": [
  {
   "cell_type": "code",
   "execution_count": 1,
   "id": "aed59ffd-1fdf-49a3-808b-9f79d5e2931d",
   "metadata": {},
   "outputs": [
    {
     "name": "stdout",
     "output_type": "stream",
     "text": [
      "['benz', 'maruthi', 'suzuki', 'bmw', 'kia']\n"
     ]
    }
   ],
   "source": [
    "cars = ['benz', 'maruthi', 'suzuki','bmw','kia']\n",
    "print(cars)"
   ]
  },
  {
   "cell_type": "code",
   "execution_count": 2,
   "id": "e2dd5584-6315-4157-98ff-446ed6986cae",
   "metadata": {},
   "outputs": [
    {
     "name": "stdout",
     "output_type": "stream",
     "text": [
      "['benz', 'bmw', 'kia', 'maruthi', 'suzuki']\n"
     ]
    }
   ],
   "source": [
    "# i want to organise the list in A-Z order\n",
    "print(sorted(cars))"
   ]
  },
  {
   "cell_type": "code",
   "execution_count": 3,
   "id": "1df0e5c6-5ba4-4467-8d8d-8218534c12d4",
   "metadata": {},
   "outputs": [],
   "source": [
    "# Perment sort\n",
    "cars.sort()\n"
   ]
  },
  {
   "cell_type": "code",
   "execution_count": 4,
   "id": "6ae45432-f9f4-4727-b346-0f557a0cdc1c",
   "metadata": {},
   "outputs": [
    {
     "name": "stdout",
     "output_type": "stream",
     "text": [
      "['benz', 'bmw', 'kia', 'maruthi', 'suzuki']\n"
     ]
    }
   ],
   "source": [
    "print(cars)"
   ]
  },
  {
   "cell_type": "code",
   "execution_count": 5,
   "id": "ad844cf0-5681-4e1c-a72d-abd6098c1a1f",
   "metadata": {},
   "outputs": [
    {
     "name": "stdout",
     "output_type": "stream",
     "text": [
      "['suzuki', 'maruthi', 'kia', 'bmw', 'benz']\n"
     ]
    }
   ],
   "source": [
    "#  i want print reverse order \n",
    "cars.reverse()\n",
    "print(cars)"
   ]
  },
  {
   "cell_type": "code",
   "execution_count": 6,
   "id": "81842c34-e021-425b-91bc-dd208c8d47c2",
   "metadata": {},
   "outputs": [],
   "source": [
    "# i want to know the total count of elements"
   ]
  },
  {
   "cell_type": "code",
   "execution_count": 7,
   "id": "7fbfee67-d586-4c07-b8d1-0c7741821b22",
   "metadata": {},
   "outputs": [
    {
     "data": {
      "text/plain": [
       "5"
      ]
     },
     "execution_count": 7,
     "metadata": {},
     "output_type": "execute_result"
    }
   ],
   "source": [
    "len(cars)"
   ]
  },
  {
   "cell_type": "code",
   "execution_count": 8,
   "id": "40e323b2-eed7-46cb-bb3c-22bf909b60b3",
   "metadata": {},
   "outputs": [],
   "source": [
    "# Slicing the list"
   ]
  },
  {
   "cell_type": "code",
   "execution_count": 10,
   "id": "ff2a5695-02b0-4016-80e5-d8d4ef97f235",
   "metadata": {},
   "outputs": [
    {
     "name": "stdout",
     "output_type": "stream",
     "text": [
      "['rohit', 'naveen', 'saima', 'Keerthi', 'virat', 'Joseph']\n"
     ]
    }
   ],
   "source": [
    "students = ['rohit', 'naveen','saima','Keerthi', 'virat', 'Joseph']\n",
    "print(students)"
   ]
  },
  {
   "cell_type": "code",
   "execution_count": 11,
   "id": "6c1b711d-ba1f-479e-adbb-941986f20b2b",
   "metadata": {},
   "outputs": [],
   "source": [
    "# General syntax of slicing \n",
    "[start_value:stop_value:step_count]"
   ]
  },
  {
   "cell_type": "code",
   "execution_count": 13,
   "id": "ae7a0b01-d747-497a-b05c-901cd4fbe3b1",
   "metadata": {},
   "outputs": [
    {
     "name": "stdout",
     "output_type": "stream",
     "text": [
      "['rohit']\n"
     ]
    }
   ],
   "source": [
    "# i want rohit and naveen as input.\n",
    "print(students[0:1])"
   ]
  },
  {
   "cell_type": "code",
   "execution_count": 14,
   "id": "da4f4156-e771-412a-815b-f1592f9579cc",
   "metadata": {},
   "outputs": [
    {
     "name": "stdout",
     "output_type": "stream",
     "text": [
      "['saima', 'Keerthi']\n"
     ]
    }
   ],
   "source": [
    "print(students[2:4])"
   ]
  },
  {
   "cell_type": "code",
   "execution_count": 17,
   "id": "b350455b-ed46-458c-9d09-174265ede2a2",
   "metadata": {},
   "outputs": [
    {
     "name": "stdout",
     "output_type": "stream",
     "text": [
      "['virat', 'Joseph']\n"
     ]
    }
   ],
   "source": [
    "print(students[4:6])"
   ]
  },
  {
   "cell_type": "code",
   "execution_count": 18,
   "id": "87c90610-7498-4f2d-b5c0-ac150c2c1740",
   "metadata": {},
   "outputs": [],
   "source": [
    "# i want rohit, saima, Joseph in out put.\n",
    "print(students[0:6:2])"
   ]
  },
  {
   "cell_type": "code",
   "execution_count": null,
   "id": "0099e89f-e93f-4843-b4e0-a0ccba9b6414",
   "metadata": {},
   "outputs": [],
   "source": []
  }
 ],
 "metadata": {
  "kernelspec": {
   "display_name": "Python 3 (ipykernel)",
   "language": "python",
   "name": "python3"
  },
  "language_info": {
   "codemirror_mode": {
    "name": "ipython",
    "version": 3
   },
   "file_extension": ".py",
   "mimetype": "text/x-python",
   "name": "python",
   "nbconvert_exporter": "python",
   "pygments_lexer": "ipython3",
   "version": "3.12.4"
  }
 },
 "nbformat": 4,
 "nbformat_minor": 5
}
