{
 "cells": [
  {
   "cell_type": "code",
   "execution_count": 1,
   "id": "46351d4c-791b-4fed-b9a8-9b4abdc73789",
   "metadata": {},
   "outputs": [
    {
     "name": "stdout",
     "output_type": "stream",
     "text": [
      "['jafru', 'shaik', 'kalyan', 'peter', 'Maxwell']\n"
     ]
    }
   ],
   "source": [
    "students = ['jafru', 'shaik', 'kalyan','peter', 'Maxwell']\n",
    "print(students)"
   ]
  },
  {
   "cell_type": "code",
   "execution_count": 2,
   "id": "255cdde2-c286-45b6-9081-724abb86b063",
   "metadata": {},
   "outputs": [
    {
     "data": {
      "text/plain": [
       "list"
      ]
     },
     "execution_count": 2,
     "metadata": {},
     "output_type": "execute_result"
    }
   ],
   "source": [
    "type(students)"
   ]
  },
  {
   "cell_type": "code",
   "execution_count": 3,
   "id": "d7c46d33-3ac6-4ba1-901c-e1c3d4bbc028",
   "metadata": {},
   "outputs": [
    {
     "name": "stdout",
     "output_type": "stream",
     "text": [
      "shaik\n"
     ]
    }
   ],
   "source": [
    "# i want to access shaik name in the output?\n",
    "print(students[1])"
   ]
  },
  {
   "cell_type": "code",
   "execution_count": 4,
   "id": "2869537a-aa41-45eb-9e53-3ce9f35d272e",
   "metadata": {},
   "outputs": [
    {
     "name": "stdout",
     "output_type": "stream",
     "text": [
      "Shaik\n"
     ]
    }
   ],
   "source": [
    "print(students[1].title())"
   ]
  },
  {
   "cell_type": "code",
   "execution_count": 5,
   "id": "d26740e3-2097-46aa-8229-c974daefbebf",
   "metadata": {},
   "outputs": [
    {
     "name": "stdout",
     "output_type": "stream",
     "text": [
      "Peter\n"
     ]
    }
   ],
   "source": [
    "print(students[3].title())"
   ]
  },
  {
   "cell_type": "code",
   "execution_count": 6,
   "id": "dac9a973-542b-41ce-872e-7ff28a055f04",
   "metadata": {},
   "outputs": [
    {
     "name": "stdout",
     "output_type": "stream",
     "text": [
      "['jafru', 'shaik', 'kalyan', 'peter', 'Maxwell', 'adil']\n"
     ]
    }
   ],
   "source": [
    "# Add new element in above list\n",
    "students.append(\"adil\")\n",
    "print(students)"
   ]
  },
  {
   "cell_type": "code",
   "execution_count": 8,
   "id": "89ca490b-8030-42de-a8cd-172d6767837f",
   "metadata": {},
   "outputs": [
    {
     "name": "stdout",
     "output_type": "stream",
     "text": [
      "['jafru', 'shaik', 'kalyan', 'peter', 'Maxwell', 'adil', 'Suresh', 'Suresh']\n"
     ]
    }
   ],
   "source": [
    "# Add new element\n",
    "students.append('Suresh')\n",
    "print(students)"
   ]
  },
  {
   "cell_type": "code",
   "execution_count": 10,
   "id": "481d462b-2f1a-4489-a421-9aeaefcc6db8",
   "metadata": {},
   "outputs": [
    {
     "name": "stdout",
     "output_type": "stream",
     "text": [
      "['jafru', 'shaik', 'Jupiter', 'kalyan', 'peter', 'Maxwell', 'adil', 'Suresh', 'Suresh']\n"
     ]
    }
   ],
   "source": [
    "# i want to add at 2 index\n",
    "students.insert(2, \"Jupiter\")\n",
    "print(students)"
   ]
  },
  {
   "cell_type": "code",
   "execution_count": 11,
   "id": "242cdfc2-b9d2-4d7b-bb45-81eca49c02e4",
   "metadata": {},
   "outputs": [
    {
     "name": "stdout",
     "output_type": "stream",
     "text": [
      "['jafru', 'Rani', 'Jupiter', 'kalyan', 'peter', 'Maxwell', 'adil', 'Suresh', 'Suresh']\n"
     ]
    }
   ],
   "source": [
    "# How to modify the elemnts in the list\n",
    "students[1] = \"Rani\"\n",
    "print(students)"
   ]
  },
  {
   "cell_type": "code",
   "execution_count": 13,
   "id": "a789c54b-0dd2-4bc2-90f5-d88a9c697209",
   "metadata": {},
   "outputs": [
    {
     "name": "stdout",
     "output_type": "stream",
     "text": [
      "['jafru', 'Rani', 'Jupiter', 'kalyan', 'peter', 'Maxwell', 'adil', 'Suresh']\n"
     ]
    }
   ],
   "source": [
    "# Delete the element in list\n",
    "del students[8]\n",
    "print(students)"
   ]
  },
  {
   "cell_type": "code",
   "execution_count": 14,
   "id": "a0586262-902a-403f-8941-3ebb459bdf15",
   "metadata": {},
   "outputs": [
    {
     "name": "stdout",
     "output_type": "stream",
     "text": [
      "The Zen of Python, by Tim Peters\n",
      "\n",
      "Beautiful is better than ugly.\n",
      "Explicit is better than implicit.\n",
      "Simple is better than complex.\n",
      "Complex is better than complicated.\n",
      "Flat is better than nested.\n",
      "Sparse is better than dense.\n",
      "Readability counts.\n",
      "Special cases aren't special enough to break the rules.\n",
      "Although practicality beats purity.\n",
      "Errors should never pass silently.\n",
      "Unless explicitly silenced.\n",
      "In the face of ambiguity, refuse the temptation to guess.\n",
      "There should be one-- and preferably only one --obvious way to do it.\n",
      "Although that way may not be obvious at first unless you're Dutch.\n",
      "Now is better than never.\n",
      "Although never is often better than *right* now.\n",
      "If the implementation is hard to explain, it's a bad idea.\n",
      "If the implementation is easy to explain, it may be a good idea.\n",
      "Namespaces are one honking great idea -- let's do more of those!\n"
     ]
    }
   ],
   "source": [
    "import this"
   ]
  },
  {
   "cell_type": "code",
   "execution_count": null,
   "id": "268edd30-ec04-4148-97c8-0ee9f1cdc4ab",
   "metadata": {},
   "outputs": [],
   "source": []
  }
 ],
 "metadata": {
  "kernelspec": {
   "display_name": "Python 3 (ipykernel)",
   "language": "python",
   "name": "python3"
  },
  "language_info": {
   "codemirror_mode": {
    "name": "ipython",
    "version": 3
   },
   "file_extension": ".py",
   "mimetype": "text/x-python",
   "name": "python",
   "nbconvert_exporter": "python",
   "pygments_lexer": "ipython3",
   "version": "3.12.4"
  }
 },
 "nbformat": 4,
 "nbformat_minor": 5
}
